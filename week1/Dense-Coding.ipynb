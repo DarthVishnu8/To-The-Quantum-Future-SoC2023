{
 "cells": [
  {
   "cell_type": "markdown",
   "metadata": {},
   "source": [
    "# Dense Coding"
   ]
  },
  {
   "cell_type": "markdown",
   "metadata": {},
   "source": [
    "## 2 bits from a Qubit\n",
    "\n",
    "Let's start this question with the standard SuperDense Coding protocol, given in QCQI (page 97), which uses a *maximally* entangled two-qubit state \n",
    "\n",
    "$$\\left(\\frac{|00\\rangle + |11\\rangle}{\\sqrt{2}}\\right)\\$$\n",
    "\n",
    "to allow Alice to transmit 2 bits of information to Bob, by sending her qubit to Bob.\n",
    "\n",
    "Describe the protocol briefly in your own words. Since this is an SoC and requires coding (*wink wink*), code up the circuit in Qiskit. \n",
    "\n",
    "Specifically, code up a circuit which changes depending on the message (of two bits) being transferred (you can pass the circuit and the message as parameters to a function, for example)"
   ]
  },
  {
   "cell_type": "code",
   "execution_count": 34,
   "metadata": {},
   "outputs": [
    {
     "name": "stdout",
     "output_type": "stream",
     "text": [
      "Statevector([0.70710678+0.j, 0.        +0.j, 0.        +0.j,\n",
      "             0.70710678+0.j],\n",
      "            dims=(2, 2))\n",
      "{'10': 1}\n",
      "     ┌─────────────────┐┌───┐     ┌───┐     ┌───┐┌─┐\n",
      "q_0: ┤ Initialize(1,0) ├┤ H ├──■──┤ X ├──■──┤ H ├┤M├\n",
      "     ├─────────────────┤└───┘┌─┴─┐└───┘┌─┴─┐└┬─┬┘└╥┘\n",
      "q_1: ┤ Initialize(1,0) ├─────┤ X ├─────┤ X ├─┤M├──╫─\n",
      "     └─────────────────┘     └───┘     └───┘ └╥┘  ║ \n",
      "c: 2/═════════════════════════════════════════╩═══╩═\n",
      "                                              1   0 \n"
     ]
    }
   ],
   "source": [
    "import numpy as np\n",
    "from qiskit import *\n",
    "\n",
    "# Alice and Bob share a pre-entangled qubit which we represent as Q=(|00⟩+|11⟩)/√2.\n",
    "\n",
    "qc = QuantumCircuit(2,2)\n",
    "qc.initialize([1, 0], [0])\n",
    "qc.initialize([1, 0], [1])\n",
    "qc.h(0)\n",
    "qc.cx(0,1)\n",
    "\n",
    "# Assuming Alice wants to communicate two bits of information to Bob, she applies one of four gates to her qubit.\n",
    "def denseCoding (qc, bit1, bit2):\n",
    "  if (bit1 == 0 and bit2 == 0):\n",
    "    qc.i(0)\n",
    "  elif (bit1 == 0 and bit2 == 1):\n",
    "    qc.x(0)\n",
    "  elif (bit1 == 1 and bit2 == 0):\n",
    "    qc.z(0)\n",
    "  elif (bit1 == 1 and bit2 == 1):\n",
    "    qc.x(0)\n",
    "    qc.z(0)\n",
    "  else:\n",
    "    print(\"Invalid bits: Only send 2 bits of 0 or 1\")\n",
    "# Show the entangled qubit after she applies the Quantum Gate\n",
    "simulator = Aer.get_backend('statevector_simulator')\n",
    "job = execute(qc, simulator)\n",
    "result = job.result()\n",
    "statevector = result.get_statevector()\n",
    "print(statevector)\n",
    "# She then sends her modified qubit to Bob who measures the sent qubit and extracts the classical information.\n",
    "def sendBits(qc):\n",
    "  qc.cx(0,1)\n",
    "  qc.h(0)\n",
    "  qc.measure(0,0)\n",
    "  qc.measure(1,1)\n",
    "# Print the measurement results\n",
    "def measure(qc):\n",
    "  simulator = Aer.get_backend('qasm_simulator')\n",
    "  job = execute(qc, simulator, shots=1)\n",
    "  result = job.result()\n",
    "  counts = result.get_counts()\n",
    "  print(counts)\n",
    "  \n",
    "  \n",
    "if(__name__ == \"__main__\"):\n",
    "  denseCoding(qc,0,1)\n",
    "  sendBits(qc)\n",
    "  measure(qc)\n",
    "  print(qc)"
   ]
  },
  {
   "cell_type": "markdown",
   "metadata": {},
   "source": [
    "## Transmitting 3 bits\n",
    "\n",
    "You've now transmitted 2 bits successfully using a quantum channel. What else can we do?\n",
    "\n",
    "Suppose Alice and Bob now share a 3 qubit entangled state, with Alice having 2 out of the 3 qubits. Their goal is to transmit 3 bits, using those 3 qubits. \n",
    "\n",
    "1. Propose a 3 qubit state which would suit Alice and Bob. Take inspiration from the previous part, and why you think the protocol for 2 qubits works.\n",
    "\n",
    "2. Now that you have a shared state, design a protocol, that allows Alice to transmit a 3 bit message, by sending her 2 qubits to Bob. You can also code it up on Qiskit, with the same specifications as the previous coding task."
   ]
  },
  {
   "cell_type": "markdown",
   "metadata": {},
   "source": [
    "Write about the state and the protocol here : "
   ]
  },
  {
   "cell_type": "code",
   "execution_count": 35,
   "metadata": {},
   "outputs": [
    {
     "name": "stdout",
     "output_type": "stream",
     "text": [
      "Statevector([0.70710678+0.j, 0.        +0.j, 0.        +0.j,\n",
      "             0.        +0.j, 0.        +0.j, 0.        +0.j,\n",
      "             0.        +0.j, 0.70710678+0.j],\n",
      "            dims=(2, 2, 2))\n",
      "{'110': 1}\n"
     ]
    },
    {
     "data": {
      "image/png": "[encoded data removed]",
      "text/plain": [
       "<Figure size 872.774x367.889 with 1 Axes>"
      ]
     },
     "execution_count": 35,
     "metadata": {},
     "output_type": "execute_result"
    }
   ],
   "source": [
    "# Write your code for the protocol below\n",
    "import numpy as np\n",
    "from qiskit import *\n",
    "\n",
    "circ = QuantumCircuit(3,3)\n",
    "circ.initialize([1, 0], [0])\n",
    "circ.initialize([1, 0], [1])\n",
    "circ.initialize([1, 0], [2])\n",
    "circ.h(0)\n",
    "circ.cx(0,1)\n",
    "circ.cx(0,2)\n",
    "simulator = Aer.get_backend('statevector_simulator')\n",
    "job = execute(circ, simulator)\n",
    "result = job.result()\n",
    "statevector = result.get_statevector()\n",
    "print(statevector)\n",
    "#-----------------------------------------------------------\n",
    "def denseCoding(circ, bit1, bit2, bit3):\n",
    "  if (bit1 == 0 and bit2 == 0 and bit3 == 0):\n",
    "    circ.i(0)\n",
    "  elif (bit1 == 0 and bit2 == 0 and bit3 == 1):\n",
    "    circ.x(0)\n",
    "    circ.x(1)\n",
    "  elif (bit1 == 0 and bit2 == 1 and bit3 == 0):\n",
    "    circ.x(1)\n",
    "  elif (bit1 == 1 and bit2 == 0 and bit3 == 0):\n",
    "    circ.z(0)\n",
    "  elif (bit1 == 0 and bit2 == 1 and bit3 == 1):\n",
    "    circ.x(0)\n",
    "  elif (bit1 == 1 and bit2 == 0 and bit3 == 1):\n",
    "    circ.x(0)\n",
    "    circ.x(1)\n",
    "    circ.z(0)\n",
    "  elif (bit1 == 1 and bit2 == 1 and bit3 == 0):\n",
    "    circ.x(1)\n",
    "    circ.z(0)\n",
    "  elif (bit1 == 1 and bit2 == 1 and bit3 == 1):\n",
    "    circ.x(0)\n",
    "    circ.z(0)\n",
    "  else:\n",
    "    print(\"Invalid bits entered: Only enter 3 bits of 0 or 1\")\n",
    "#-----------------------------------------------------------\n",
    "\n",
    "denseCoding(circ, 0,1,1)\n",
    "\n",
    "circ.cx(0,2)\n",
    "circ.cx(0,1)\n",
    "circ.h(0)\n",
    "circ.measure(0,0)\n",
    "circ.measure(1,1)\n",
    "circ.measure(2,2)\n",
    "\n",
    "simulator = Aer.get_backend('qasm_simulator')\n",
    "job = execute(circ, simulator, shots=1)\n",
    "result = job.result() \n",
    "counts = result.get_counts()\n",
    "print(counts)\n",
    "circ.draw('mpl')"
   ]
  },
  {
   "cell_type": "markdown",
   "metadata": {},
   "source": [
    "3. Suppose Bob wanted to send some information to Alice. Show that he can't design a protocol to send more than 2 qubits of information with the 1 qubit he can send.\n",
    "\n",
    "Answer: Since there are only 4 bell states we cannot send more than 2 bits of information using this protocol and in general it is not possible since a qubit only has two orthogonal bases."
   ]
  },
  {
   "cell_type": "markdown",
   "metadata": {},
   "source": [
    "## Doing Better\n",
    "\n",
    "You might have seen that we're transmitting 2 qubits to send 3 bits of information here, which is less efficient than transmitting 1 qubit to get 2 bits of information.\n",
    "\n",
    "An obvious way to do better is to do the previous protocol twice, and get 4 bits of information for the two qubits transferred.\n",
    "\n",
    "Can you think of a way to achieve this, in a similar line to the previous methods, but with one common shared state (and not two separate Bell states)?\n",
    "\n",
    "Hint : Think of a 4 qubit state to share, and see if Alice, with her two qubits, can operate her qubits in different ways so as to get other basis states\n",
    "\n",
    "Answer: https://arxiv.org/pdf/quant-ph/0407193.pdf\n",
    "Basically a small extension of the upper part to include some more combinations of X and Z gates and the starting state is a maximally entangled state."
   ]
  },
  {
   "cell_type": "code",
   "execution_count": null,
   "metadata": {},
   "outputs": [],
   "source": []
  }
 ],
 "metadata": {
  "kernelspec": {
   "display_name": "Python 3 (ipykernel)",
   "language": "python",
   "name": "python3"
  },
  "language_info": {
   "codemirror_mode": {
    "name": "ipython",
    "version": 3
   },
   "file_extension": ".py",
   "mimetype": "text/x-python",
   "name": "python",
   "nbconvert_exporter": "python",
   "pygments_lexer": "ipython3",
   "version": "3.9.13"
  }
 },
 "nbformat": 4,
 "nbformat_minor": 2
}
